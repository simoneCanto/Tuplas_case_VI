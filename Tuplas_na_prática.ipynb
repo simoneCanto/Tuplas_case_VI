{
  "nbformat": 4,
  "nbformat_minor": 0,
  "metadata": {
    "colab": {
      "provenance": [],
      "include_colab_link": true
    },
    "kernelspec": {
      "name": "python3",
      "display_name": "Python 3"
    },
    "language_info": {
      "name": "python"
    }
  },
  "cells": [
    {
      "cell_type": "markdown",
      "metadata": {
        "id": "view-in-github",
        "colab_type": "text"
      },
      "source": [
        "<a href=\"https://colab.research.google.com/github/simoneCanto/Tuplas_case_VI/blob/main/Tuplas_na_pr%C3%A1tica.ipynb\" target=\"_parent\"><img src=\"https://colab.research.google.com/assets/colab-badge.svg\" alt=\"Open In Colab\"/></a>"
      ]
    },
    {
      "cell_type": "markdown",
      "metadata": {
        "id": "vmOiyAlWk7HR"
      },
      "source": [
        "# Tuplas\n",
        "\n",
        "As tuplas são variáveis compostas imutáveis."
      ]
    },
    {
      "cell_type": "markdown",
      "metadata": {
        "id": "sduFqW1z9gzt"
      },
      "source": [
        "<h1> Estrutura </h1>\n",
        "\n",
        "As variáveis comuns só conseguem armazenar 1 valor por vez.\n",
        "\n",
        "Já as tuplas conseguem armazenar diversos valores diferentes dentro de uma só variável. Elas serão muito úteis para nós não precisarmos ficar declarando infinitas variáveis.\n",
        "\n",
        "Para declarar uma tupla basta colocar todos os valores entre parênteses e separados por vírgula.\n",
        "\n",
        "```\n",
        "tupla = ('var1','var2','var'3)\n",
        "```\n",
        "\n",
        "<h3> Exemplo 1 </h3>\n",
        "\n",
        "Defina uma tupla com 3 strings e use o print para ver como ela se apresenta."
      ]
    },
    {
      "cell_type": "code",
      "metadata": {
        "colab": {
          "base_uri": "https://localhost:8080/"
        },
        "id": "nnS9VAsN-U9i",
        "outputId": "d054d882-655d-458a-ae6f-1044a3906884"
      },
      "source": [
        "# Definindo a tupla\n",
        "t1 = ('lanche', 'batata', 'refri')\n",
        "# Imprimindo a tupla\n",
        "print(t1)"
      ],
      "execution_count": null,
      "outputs": [
        {
          "output_type": "stream",
          "name": "stdout",
          "text": [
            "('lanche', 'batata', 'refri')\n"
          ]
        }
      ]
    },
    {
      "cell_type": "markdown",
      "metadata": {
        "id": "a2GTHFTn-e8w"
      },
      "source": [
        "<h3> Exemplo 2 </h3>\n",
        "\n",
        "Agora defina outra tupla com valores numéricos"
      ]
    },
    {
      "cell_type": "code",
      "metadata": {
        "colab": {
          "base_uri": "https://localhost:8080/"
        },
        "id": "UCiAcz5p-lrz",
        "outputId": "ddec6b5b-312a-4446-95c6-fd56525693a8"
      },
      "source": [
        "# Definindo a tupla\n",
        "t2 = (1, 3, 5, 7)\n",
        "# Imprimindo a tupla\n",
        "print(t2)"
      ],
      "execution_count": null,
      "outputs": [
        {
          "output_type": "stream",
          "name": "stdout",
          "text": [
            "(1, 3, 5, 7)\n"
          ]
        }
      ]
    },
    {
      "cell_type": "markdown",
      "metadata": {
        "id": "F7cR-g2L-v4T"
      },
      "source": [
        "<h3> Exemplo 3 </h3>\n",
        "\n",
        "Agora defina uma tupla com vários tipos de dados dentro da mesma tupla."
      ]
    },
    {
      "cell_type": "code",
      "metadata": {
        "colab": {
          "base_uri": "https://localhost:8080/"
        },
        "id": "uqMm9rbM-3LY",
        "outputId": "f6a6776d-cb50-461d-a1c8-261c5039e56a"
      },
      "source": [
        "# Definindo a tupla\n",
        "t3 = ('Lanche', 10.9, 3, True)\n",
        "# Imprimindo a tupla\n",
        "print(t3)"
      ],
      "execution_count": null,
      "outputs": [
        {
          "output_type": "stream",
          "name": "stdout",
          "text": [
            "('Lanche', 10.9, 3, True)\n"
          ]
        }
      ]
    },
    {
      "cell_type": "markdown",
      "metadata": {
        "id": "eal39OVr_Dy5"
      },
      "source": [
        "Observe que as tuplas aceitam qualquer tipo de dado e é possível ter mais de um tipo de dado dentro da mesma tupla."
      ]
    },
    {
      "cell_type": "markdown",
      "metadata": {
        "id": "pd_3l__c_R8c"
      },
      "source": [
        "## Acessando seus Valores\n",
        "\n",
        "Para acessar os valores das tuplas, basta colocar o índice da tupla desejado entre colchetes"
      ]
    },
    {
      "cell_type": "markdown",
      "metadata": {
        "id": "ltKUIPhG_dw4"
      },
      "source": [
        "Cada valor dentro da tupla fica salvo como um índice que começa em 0 e vai aumentando de 1 em 1 até o último termo da tupla.\n",
        "\n",
        "Então para a tupla abaixo:\n",
        "```\n",
        "      [0] [1] [2] [3]\n",
        "t2 = ( 1,  3,  5,  7 )\n",
        "```\n",
        "Os termos dela são:\n",
        "```\n",
        "t2[0] == 1\n",
        "t2[1] == 3\n",
        "t2[2] == 5\n",
        "t2[3] == 7\n",
        "```\n",
        "\n",
        "<h3> Exemplo 1 </h3>\n",
        "\n",
        "Para a tupla acima tente imprimir cada um dos seus valores."
      ]
    },
    {
      "cell_type": "code",
      "metadata": {
        "colab": {
          "base_uri": "https://localhost:8080/"
        },
        "id": "P5IBlss8ATBO",
        "outputId": "1e35bd97-2c0f-44f8-ad2f-0460929eb89f"
      },
      "source": [
        "# Imprimindo\n",
        "print(t2[0])\n",
        "print(t2[1])\n",
        "print(t2[2])\n",
        "print(t2[3])\n"
      ],
      "execution_count": null,
      "outputs": [
        {
          "output_type": "stream",
          "name": "stdout",
          "text": [
            "1\n",
            "3\n",
            "5\n",
            "7\n"
          ]
        }
      ]
    },
    {
      "cell_type": "markdown",
      "metadata": {
        "id": "Cm6sz90-Asbl"
      },
      "source": [
        "<h3> Exemplo 2 </h3>\n",
        "\n",
        "Imprima a soma de cada valor desta tupla"
      ]
    },
    {
      "cell_type": "code",
      "metadata": {
        "colab": {
          "base_uri": "https://localhost:8080/"
        },
        "id": "aeB85E4OAsII",
        "outputId": "14561029-21e2-4063-c15c-8425348bd932"
      },
      "source": [
        "# Somando\n",
        "soma = t2[0] + t2[1] + t2[2] + t2[3]\n",
        "# Imprimindo\n",
        "print(soma)"
      ],
      "execution_count": null,
      "outputs": [
        {
          "output_type": "stream",
          "name": "stdout",
          "text": [
            "16\n"
          ]
        }
      ]
    },
    {
      "cell_type": "markdown",
      "metadata": {
        "id": "TWWTyMYKBFjF"
      },
      "source": [
        "<h2> Acessando múltiplos valores </h2>\n",
        "\n",
        "Também é possível acessar mais de 1 valor ao mesmo tempo colocando entre os colchetes de onde até onde você quer acessar.\n",
        "\n",
        "> `t2[0:2]` : são os 2 primeiros valor desta tupla : `1, 3` <br>\n",
        "> `t2[2:4]` : são o 3º e o 4º valor desta tupla    : `5, 7` <br>\n",
        "> `t2[:3] ` : são os 3 primeiros valor desta tupla : `1, 3, 5` <br>\n",
        "> `t2[2:] ` : é do 3º ao último termo desta tupla  : `5, 7` <br>\n",
        "> `t2[-1] ` : é último termo desta tupla           : `7` <br>\n",
        "\n",
        "Lembre-se que assim como no **range** o último valor dentro do colchete não é acessado.\n",
        "\n",
        "<h3> Exemplo 3 </h3>\n",
        "\n",
        "Vamos testar os itens acima?"
      ]
    },
    {
      "cell_type": "code",
      "metadata": {
        "colab": {
          "base_uri": "https://localhost:8080/"
        },
        "id": "XLLt0WTgCQRY",
        "outputId": "f0d8d153-4a14-4068-a2ef-f5c5d51257b2"
      },
      "source": [
        "# Imprimindo valores\n",
        "print(t2[0:2])\n",
        "print(t2[2:4])\n",
        "print(t2[:3])\n",
        "print(t2[2:])\n",
        "print(t2[-1])"
      ],
      "execution_count": null,
      "outputs": [
        {
          "output_type": "stream",
          "name": "stdout",
          "text": [
            "(1, 3)\n",
            "(5, 7)\n",
            "(1, 3, 5)\n",
            "(5, 7)\n",
            "7\n"
          ]
        }
      ]
    },
    {
      "cell_type": "markdown",
      "metadata": {
        "id": "hz2HnZOVCvEq"
      },
      "source": [
        "## Tipo e suas propriedades\n",
        "\n",
        "**As tuplas são imutáveis**, ou seja, a partir do momento que ela é declarada ela não pode mais mudar seus valores."
      ]
    },
    {
      "cell_type": "markdown",
      "metadata": {
        "id": "cXA8l9loC8Y9"
      },
      "source": [
        "<h3> Exemplo 1 </h3>\n",
        "\n",
        "Defina uma tupla:\n",
        "\n",
        "t2 = (1, 3, 5, 7)\n",
        "\n",
        "E em seguida tente mudar o seu terceiro valor para 8"
      ]
    },
    {
      "cell_type": "code",
      "metadata": {
        "colab": {
          "base_uri": "https://localhost:8080/",
          "height": 195
        },
        "id": "BDO8mb2sDH0h",
        "outputId": "e9855fae-7f1c-4a93-ffbc-5123d0c270ce"
      },
      "source": [
        "# Definindo a tupla\n",
        "\n",
        "# Modificando seu valor\n"
      ],
      "execution_count": null,
      "outputs": [
        {
          "output_type": "error",
          "ename": "TypeError",
          "evalue": "ignored",
          "traceback": [
            "\u001b[0;31m---------------------------------------------------------------------------\u001b[0m",
            "\u001b[0;31mTypeError\u001b[0m                                 Traceback (most recent call last)",
            "\u001b[0;32m<ipython-input-59-64fa11ad60c2>\u001b[0m in \u001b[0;36m<module>\u001b[0;34m()\u001b[0m\n\u001b[1;32m      3\u001b[0m \u001b[0;34m\u001b[0m\u001b[0m\n\u001b[1;32m      4\u001b[0m \u001b[0;31m# Modificando seu valor\u001b[0m\u001b[0;34m\u001b[0m\u001b[0;34m\u001b[0m\u001b[0;34m\u001b[0m\u001b[0m\n\u001b[0;32m----> 5\u001b[0;31m \u001b[0mt2\u001b[0m\u001b[0;34m[\u001b[0m\u001b[0;36m2\u001b[0m\u001b[0;34m]\u001b[0m \u001b[0;34m=\u001b[0m \u001b[0;36m8\u001b[0m\u001b[0;34m\u001b[0m\u001b[0;34m\u001b[0m\u001b[0m\n\u001b[0m",
            "\u001b[0;31mTypeError\u001b[0m: 'tuple' object does not support item assignment"
          ]
        }
      ]
    },
    {
      "cell_type": "markdown",
      "metadata": {
        "id": "fpCWwixBDSnK"
      },
      "source": [
        "Repare no erro!!! Realmente não é possível mudar o seu valor!\n",
        "\n",
        "**Então para que iremos usá-la?**\n",
        "\n",
        "Já que ela é definida no começo do programa e depois não pode mais ser mudada ela é muito utilizada como variável de segurança para evitar modificações acidentais durante a execução de programas complexos.\n",
        "\n",
        "<h2> Tipo da tupla e de seus valores </h2>\n",
        "\n",
        "A tupla possui o próprio tipo: `tuple`. Porém os valores de cada um dos seus termos permanecem com o tipo original.\n",
        "\n",
        "Mas é claro... se pegarmos vários valores dentro da tupla ele será listado como tupla ainda!!!\n",
        "\n",
        "<h3> Exemplo 2 </h3>\n",
        "\n",
        "Verifique o tipo das variáveis:\n",
        "\n",
        "* `t3`\n",
        "* `t3[0]`\n",
        "* `t3[1]`\n",
        "* `t3[2]`\n",
        "* `t3[0:2]`\n",
        "* `t3[1:]`"
      ]
    },
    {
      "cell_type": "code",
      "metadata": {
        "colab": {
          "base_uri": "https://localhost:8080/"
        },
        "id": "_ymeMBZgEUrq",
        "outputId": "de2ff207-d109-416e-9ca2-625517bd8793"
      },
      "source": [
        "# Imprimindo as variáveis e seus tipos.\n",
        "print('t3 = ',t3, 'é do tipo', type(t3))\n",
        "print()\n",
        "print('t3[0] = ',t3[0],'é do tipo ', type(t3[0]))\n",
        "print()\n",
        "print('t3[1] = ',t3[1],'é do tipo ', type(t3[1]))\n",
        "print()\n",
        "print('t3[2] = ',t3[2],'é do tipo', type(t3[2]))\n",
        "print()\n",
        "print('t3[0:2] = ',t3[0:2],'é do tipo',type(t3[0:2]))\n",
        "print()\n",
        "print('t3[1:] = ',t3[1:],'é do tipo', type(t3[1:]))\n"
      ],
      "execution_count": null,
      "outputs": [
        {
          "output_type": "stream",
          "name": "stdout",
          "text": [
            "t3 =  ('Lanche', 10.9, 3, True) é do tipo <class 'tuple'>\n",
            "\n",
            "t3[0] =  Lanche é do tipo  <class 'str'>\n",
            "\n",
            "t3[1] =  10.9 é do tipo  <class 'float'>\n",
            "\n",
            "t3[2] =  3 é do tipo <class 'int'>\n",
            "\n",
            "t3[0:2] =  ('Lanche', 10.9) é do tipo <class 'tuple'>\n",
            "\n",
            "t3[1:] =  (10.9, 3, True) é do tipo <class 'tuple'>\n"
          ]
        }
      ]
    },
    {
      "cell_type": "markdown",
      "metadata": {
        "id": "FoXuJBiSGeOH"
      },
      "source": [
        "## Funções com Tuplas\n",
        "\n",
        "Temos algumas funções muito usadas em tuplas:\n",
        "\n",
        "> `len(t1)` : qtd de termos <br>\n",
        "> `sorted(t1)` : ordenar <br>\n",
        "> `t1.count(valor)` : contar a qtd de “valor” <br>\n",
        "> `t1.index(valor)` : achar a 1ª posição de “valor” <br>\n",
        "> `t1.index(valor,pos)`\t: achar “valor” a partir da “pos” <br>\n",
        "> `t1 + t2` : concatenar tuplas <br>"
      ]
    },
    {
      "cell_type": "markdown",
      "metadata": {
        "id": "ElzV4i4_HFIr"
      },
      "source": [
        "<h3> Exemplo 3 </h3>\n",
        "\n",
        "Utilizando as tuplas abaixo:\n",
        "\n",
        "```\n",
        "t1 = ('Lanche', 'Batata', 'Refri')\n",
        "t2 = (0, 6, 4, 2, 8, 6, 4)\n",
        "t3 = (1, 3, 3, 5, 3, 5, 7)\n",
        "```\n",
        "Faça:\n",
        "\n",
        "* Calcule o tamanho das tuplas: t1 e t2\n",
        "* Imprima as tuplas ordenadas: t1 e t2 e depois reimprima-as\n",
        "* Conte quantas vezes aparecem o valor 3 na t3\n",
        "* Procure onde aparece o valor 'Refri' na t1\n",
        "* Procure o valor 5 na t3 após o 4º termo\n",
        "* Concatene as tuplas t2 e t3"
      ]
    },
    {
      "cell_type": "code",
      "metadata": {
        "id": "YAs2lUXOIFpg"
      },
      "source": [
        "# Declarando as Tuplas\n",
        "t1 = ('Lanche', 'Batata', 'Refri')\n",
        "t2 = (0, 6, 4, 2, 8, 6, 4)\n",
        "t3 = (1, 3, 3, 5, 3, 5, 7)"
      ],
      "execution_count": null,
      "outputs": []
    },
    {
      "cell_type": "code",
      "metadata": {
        "colab": {
          "base_uri": "https://localhost:8080/"
        },
        "id": "1y7HQGpnIJXR",
        "outputId": "7cfe6322-8e62-4579-e8df-62bd4d988e43"
      },
      "source": [
        "# Tamanho das tuplas t1 e t2\n",
        "print(len(t1))\n",
        "print(len(t2))"
      ],
      "execution_count": null,
      "outputs": [
        {
          "output_type": "stream",
          "name": "stdout",
          "text": [
            "3\n",
            "7\n"
          ]
        }
      ]
    },
    {
      "cell_type": "code",
      "metadata": {
        "colab": {
          "base_uri": "https://localhost:8080/"
        },
        "id": "G8tigKHTIP5j",
        "outputId": "4543a414-720c-411b-8098-086c7a284a6c"
      },
      "source": [
        "# Imprimindo tuplas ordenadas t1 e t2\n",
        "print(t1)\n",
        "print(sorted(t1))\n",
        "print()\n",
        "print(t2)\n",
        "print(sorted(t2))\n",
        "print()\n",
        "# Extra: verifique o tipo da variável ordenada t1\n",
        "print(sorted(t1))\n",
        "print(type(sorted(t1)))"
      ],
      "execution_count": null,
      "outputs": [
        {
          "output_type": "stream",
          "name": "stdout",
          "text": [
            "('Lanche', 'Batata', 'Refri')\n",
            "['Batata', 'Lanche', 'Refri']\n",
            "\n",
            "(0, 6, 4, 2, 8, 6, 4)\n",
            "[0, 2, 4, 4, 6, 6, 8]\n",
            "\n",
            "['Batata', 'Lanche', 'Refri']\n",
            "<class 'list'>\n"
          ]
        }
      ]
    },
    {
      "cell_type": "code",
      "metadata": {
        "colab": {
          "base_uri": "https://localhost:8080/"
        },
        "id": "2yv5jubII5VT",
        "outputId": "8bcac418-f89b-4e58-c838-091145066066"
      },
      "source": [
        "# Conte quantas vezes aparece 3 na t3\n",
        "t3.count(3)"
      ],
      "execution_count": null,
      "outputs": [
        {
          "output_type": "execute_result",
          "data": {
            "text/plain": [
              "3"
            ]
          },
          "metadata": {},
          "execution_count": 4
        }
      ]
    },
    {
      "cell_type": "code",
      "metadata": {
        "colab": {
          "base_uri": "https://localhost:8080/"
        },
        "id": "ZSSAVJfNJCB4",
        "outputId": "678f2ac4-b296-4bbe-a09e-503efcb36aa2"
      },
      "source": [
        "# Aonde aparece 'Refri' na t1\n",
        "t1.index('Refri')"
      ],
      "execution_count": null,
      "outputs": [
        {
          "output_type": "execute_result",
          "data": {
            "text/plain": [
              "2"
            ]
          },
          "metadata": {},
          "execution_count": 6
        }
      ]
    },
    {
      "cell_type": "code",
      "metadata": {
        "colab": {
          "base_uri": "https://localhost:8080/"
        },
        "id": "CSotjLcsLfUW",
        "outputId": "28ff661d-c960-43d3-988f-f73b92dec079"
      },
      "source": [
        "# Procure valor 5 na t3 após o 4º termo\n",
        "t3.index(5,4)"
      ],
      "execution_count": null,
      "outputs": [
        {
          "output_type": "execute_result",
          "data": {
            "text/plain": [
              "5"
            ]
          },
          "metadata": {},
          "execution_count": 7
        }
      ]
    },
    {
      "cell_type": "code",
      "metadata": {
        "colab": {
          "base_uri": "https://localhost:8080/"
        },
        "id": "Y-MMuKkKKX5E",
        "outputId": "8dcdff96-08e1-4161-c247-eab1e66cb6ab"
      },
      "source": [
        "# Concatene as tuplas t2 e t3\n",
        "print(t2 + t3)\n",
        "print()\n",
        "# Concatene as tuplas t3 e t2\n",
        "print(t3 + t2)"
      ],
      "execution_count": null,
      "outputs": [
        {
          "output_type": "stream",
          "name": "stdout",
          "text": [
            "(0, 6, 4, 2, 8, 6, 4, 1, 3, 3, 5, 3, 5, 7)\n",
            "\n",
            "(1, 3, 3, 5, 3, 5, 7, 0, 6, 4, 2, 8, 6, 4)\n"
          ]
        }
      ]
    },
    {
      "cell_type": "markdown",
      "metadata": {
        "id": "0_eUOVkKLwCJ"
      },
      "source": [
        "Olhando este último exemplo, aparece a dúvida: e se eu quisesse somar os termos das tuplas? E multiplicar?\n",
        "\n",
        "Para isso teremos que juntar com o conceito das aulas de repetições!!!"
      ]
    },
    {
      "cell_type": "markdown",
      "metadata": {
        "id": "5q-BhbJDL-bt"
      },
      "source": [
        "## Tuplas dentro de For\n",
        "\n",
        "As tuplas possuem vários valores, assim como o range. Portanto podemos rodar um looping de for com os valores diretos de uma lista"
      ]
    },
    {
      "cell_type": "markdown",
      "metadata": {
        "id": "PupUVG7RMM8C"
      },
      "source": [
        "<h2> Estrutura </h2>\n",
        "\n",
        "A partir do momento que a tupla está definida podemos rodar o for utilizando:\n",
        "\n",
        "```\n",
        "for i in tupla:\n",
        "```\n",
        "Quando utilizarmos esse comando em cada passo do loop a variável de controle `i` vai valer cada item da tupla até percorrermos toda a tupla.\n",
        "\n",
        "<h3> Exemplo 1 </h3>\n",
        "\n",
        "Dada a tupla:\n",
        "\n",
        "`t1 = ('Lanche','Refri','Batata')`\n",
        "\n",
        "Imprima seus valores"
      ]
    },
    {
      "cell_type": "code",
      "metadata": {
        "colab": {
          "base_uri": "https://localhost:8080/"
        },
        "id": "mk9F10W1MzRk",
        "outputId": "dbd39228-d993-41c3-c2b1-36787bff307b"
      },
      "source": [
        "t1 = ('Lanche','Refri','Batata')\n",
        "\n",
        "for i in t1:\n",
        "  print('Temos no cardápio:{}'.format(i))\n",
        "\n",
        "print('Fim do cardápio!')"
      ],
      "execution_count": null,
      "outputs": [
        {
          "output_type": "stream",
          "name": "stdout",
          "text": [
            "Temos no cardápio:Lanche\n",
            "Temos no cardápio:Refri\n",
            "Temos no cardápio:Batata\n",
            "Fim do cardápio!\n"
          ]
        }
      ]
    },
    {
      "cell_type": "markdown",
      "metadata": {
        "id": "sYDRDyp8NL0a"
      },
      "source": [
        "<h2> Exemplo 2 <h2>\n",
        "\n",
        "Dado a tupla t2 some todos os seus valores"
      ]
    },
    {
      "cell_type": "code",
      "metadata": {
        "colab": {
          "base_uri": "https://localhost:8080/"
        },
        "id": "nGmEKv2nNSTO",
        "outputId": "c37bd98e-72c1-4a48-ce58-cb0a12b4f0db"
      },
      "source": [
        "print(t2)\n",
        "\n",
        "soma = 0\n",
        "\n",
        "for i in t2:\n",
        "  soma += i\n",
        "\n",
        "print(soma)"
      ],
      "execution_count": null,
      "outputs": [
        {
          "output_type": "stream",
          "name": "stdout",
          "text": [
            "(0, 6, 4, 2, 8, 6, 4)\n",
            "30\n"
          ]
        }
      ]
    },
    {
      "cell_type": "markdown",
      "metadata": {
        "id": "6Tij56tONgsE"
      },
      "source": [
        "Observe que nos exemplos acima nós nem precisamos saber qual era o tamanho da tupla para o programa rodar.\n",
        "\n",
        "Mas, e se precisarmos saber qual é o indice de cada valor dentro do loop? Para isso usaremos o:\n",
        "\n",
        "<h1> Enumerate() </h1>\n",
        "\n",
        "Quando usamos essa função dentro da declaração de um for ela vai mostrar para a gente tanto o valor da variável de controle quanto também o índice dela. Só precisamos fazer um pequeno ajuste na sintaxe:\n",
        "\n",
        "```\n",
        "for indice,valor in enumerate(t1):\n",
        "```\n",
        "\n",
        "<h3> Exemplo 1 </h3>\n",
        "\n",
        "Plote os itens da tupla t1, mostrando os seus índices, como se fosse um cardápio"
      ]
    },
    {
      "cell_type": "code",
      "metadata": {
        "colab": {
          "base_uri": "https://localhost:8080/"
        },
        "id": "OrefCfdQOW0W",
        "outputId": "ca368437-8769-45ea-854f-c7fa24761778"
      },
      "source": [
        "t1 = ('Lanche','Refri','Batata')\n",
        "\n",
        "for i, valor in enumerate(t1):\n",
        "  print('item {}: {}'.format(i, valor))\n",
        "\n",
        "print()\n",
        "print('Fim do cardápio!')"
      ],
      "execution_count": null,
      "outputs": [
        {
          "output_type": "stream",
          "name": "stdout",
          "text": [
            "item 0: Lanche\n",
            "item 1: Refri\n",
            "item 2: Batata\n",
            "\n",
            "Fim do cardápio!\n"
          ]
        }
      ]
    },
    {
      "cell_type": "markdown",
      "metadata": {
        "id": "-mhMpbhnPqi5"
      },
      "source": [
        "# Exercícios"
      ]
    },
    {
      "cell_type": "markdown",
      "metadata": {
        "id": "BSypkNqYR41J"
      },
      "source": [
        "<h2> Exercício 1 </h2>\n",
        "\n",
        "Dada a tupla abaixo:\n",
        "```\n",
        "t1 = ('Doce', 'Churrasco', 'Bala ', 'Tapioca', 'Pizza ', 'Feijão ',\n",
        "      'Arroz ', 'Açaí ', 'Paçoca ', 'Acarajé', 'Pamonha', 'Dobradinha', 'Rapadura')\n",
        "```\n",
        "Faça um programa que:\n",
        "\n",
        "* O usuário digita uma comida e seu programa diz em qual posição do cardápio esse item está\n",
        "* Printe os itens em ordem alfabética para o usuário"
      ]
    },
    {
      "cell_type": "code",
      "metadata": {
        "id": "8HOJE9nVTF4E",
        "colab": {
          "base_uri": "https://localhost:8080/"
        },
        "outputId": "107f5d7b-b24c-4fcb-d91b-2bbc3171a7f6"
      },
      "source": [
        "t1 = ('Doce', 'Churrasco', 'Bala ', 'Tapioca', 'Pizza ', 'Feijão ',\n",
        "      'Arroz ', 'Açaí ', 'Paçoca ', 'Acarajé', 'Pamonha', 'Dobradinha', 'Rapadura')\n",
        "t1 = sorted(t1)\n",
        "x = input('Digite a comida preterida: ')\n",
        "\n",
        "print('A posição no cardápio é: {}'.format(t1.index(x)))\n",
        "print()\n",
        "print(t1)"
      ],
      "execution_count": null,
      "outputs": [
        {
          "output_type": "stream",
          "name": "stdout",
          "text": [
            "Digite a comida preterida: Tapioca\n",
            "A posição no cardápio é: 12\n",
            "\n",
            "['Acarajé', 'Arroz ', 'Açaí ', 'Bala ', 'Churrasco', 'Dobradinha', 'Doce', 'Feijão ', 'Pamonha', 'Paçoca ', 'Pizza ', 'Rapadura', 'Tapioca']\n"
          ]
        }
      ]
    },
    {
      "cell_type": "markdown",
      "metadata": {
        "id": "PGL1a2EATGX2"
      },
      "source": [
        "<h2> Exercício 2 </h2>\n",
        "\n",
        "Dado a tupla abaixo:\n",
        "```\n",
        "t1 = ('Doce', 2.3, 'Bala ', 0.15, 'Pizza ', 28.9, 'Arroz ', 4.5, 'Paçoca ', 0.5, 'Pamonha', 5.4)\n",
        "```\n",
        "Os dados estão organizados de forma que tem o valor do produto e logo após o seu preço. Faça um programa que:\n",
        "\n",
        "* Mostre o cardápio de forma organizada\n",
        "\n",
        "Resultado esperado:\n",
        "\n",
        "![image.png](data:image/png;base64,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)"
      ]
    },
    {
      "cell_type": "code",
      "metadata": {
        "colab": {
          "base_uri": "https://localhost:8080/"
        },
        "id": "3A_9u0rfTd_U",
        "outputId": "ded984b5-c2c3-4331-b18d-f3623c135fad"
      },
      "source": [
        "t1 = ('Doce', 2.3, 'Bala ', 0.15, 'Pizza ', 28.9, 'Arroz ', 4.5, 'Paçoca ', 0.5, 'Pamonha', 5.4)\n",
        "\n",
        "print('-'*40)\n",
        "print('-'*15, 'Cardápio', '-'*15)\n",
        "print('-'*40)\n",
        "print(t1[0], '.'*31, t1[1])\n",
        "print(t1[2], '.'*29, t1[3])\n",
        "print(t1[4], '.'*28, t1[5])\n",
        "print(t1[6], '.'*29, t1[7])\n",
        "print(t1[8], '.'*28, t1[9])\n",
        "print(t1[10], '.'*28, t1[11])\n",
        "print('-'*40)"
      ],
      "execution_count": null,
      "outputs": [
        {
          "output_type": "stream",
          "name": "stdout",
          "text": [
            "----------------------------------------\n",
            "--------------- Cardápio ---------------\n",
            "----------------------------------------\n",
            "Doce ............................... 2.3\n",
            "Bala  ............................. 0.15\n",
            "Pizza  ............................ 28.9\n",
            "Arroz  ............................. 4.5\n",
            "Paçoca  ............................ 0.5\n",
            "Pamonha ............................ 5.4\n",
            "----------------------------------------\n"
          ]
        }
      ]
    },
    {
      "cell_type": "markdown",
      "metadata": {
        "id": "gPtEDsZgVM5f"
      },
      "source": [
        "<h2> Exercício 3 </h2>\n",
        "\n",
        "Dado a mesma tupla do exercício anterior faça um programa que:\n",
        "\n",
        "* O usuário visualiza o cardápio e digita qual item ele quer comprar. A seguir pergunta se ele quer algo a mais. Caso ele queira vai somando todos os valores do pedido numa variável `soma`.\n",
        "* No final printe para o usuário o valor total da conta dele"
      ]
    },
    {
      "cell_type": "code",
      "source": [
        "t1 = ('Doce', 2.3, 'Bala ', 0.15, 'Pizza ', 28.9, 'Arroz ', 4.5, 'Paçoca ', 0.5, 'Pamonha', 5.4)\n",
        "# Visualização do cardápio\n",
        "print('-'*30)\n",
        "print(f'{\"Cardápio\":^30}')\n",
        "print('-'*30)\n",
        "for pos in range(0,len(t1)):\n",
        "  if pos % 2 == 0:\n",
        "    print(f'{t1[pos]:.<20}', end='')\n",
        "  else:\n",
        "    print(f'R${t1[pos]:>6.2f}')\n",
        "print('-'*30)\n",
        "\n",
        "# Pedido\n",
        "soma = 0\n",
        "i = 0\n",
        "mais = 's'\n",
        "\n",
        "while mais == 's':\n",
        "\n",
        "  carrinho = input(\"Digite a sua escolha do cardápio:  \")\n",
        "\n",
        "  if carrinho == 'Doce':\n",
        "    i = t1[1]\n",
        "\n",
        "  elif carrinho == 'Bala':\n",
        "    i = t1[3]\n",
        "\n",
        "  elif carrinho == 'Pizza':\n",
        "    i = t1[5]\n",
        "\n",
        "  elif carrinho == 'Arroz':\n",
        "    i = t1[7]\n",
        "\n",
        "  elif carrinho == 'Paçoca':\n",
        "    i = t1[9]\n",
        "\n",
        "  elif carrinho == 'Pamonha':\n",
        "    i = t1[11]\n",
        "\n",
        "  soma = soma + i\n",
        "  mais = input(\"Você quer continuar a adicionar mais itens? (s/n): \")\n",
        "\n",
        "print('O valor total da sua conta é: R${}.'.format(round(soma, 2)))"
      ],
      "metadata": {
        "colab": {
          "base_uri": "https://localhost:8080/"
        },
        "id": "ffhyOX30fcno",
        "outputId": "c1d9a9f4-737f-43ac-d5ca-1486641c9ca7"
      },
      "execution_count": null,
      "outputs": [
        {
          "output_type": "stream",
          "name": "stdout",
          "text": [
            "------------------------------\n",
            "           Cardápio           \n",
            "------------------------------\n",
            "Doce................R$  2.30\n",
            "Bala ...............R$  0.15\n",
            "Pizza ..............R$ 28.90\n",
            "Arroz ..............R$  4.50\n",
            "Paçoca .............R$  0.50\n",
            "Pamonha.............R$  5.40\n",
            "------------------------------\n",
            "Digite a sua escolha do cardápio:  Bala\n",
            "Você quer continuar a adicionar mais itens? (s/n): s\n",
            "Digite a sua escolha do cardápio:  Pizza\n",
            "Você quer continuar a adicionar mais itens? (s/n): s\n",
            "Digite a sua escolha do cardápio:  Paçoca\n",
            "Você quer continuar a adicionar mais itens? (s/n): n\n",
            "O valor total da sua conta é: R$29.55.\n"
          ]
        }
      ]
    }
  ]
}